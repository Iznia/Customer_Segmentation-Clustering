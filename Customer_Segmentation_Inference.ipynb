{
 "cells": [
  {
   "cell_type": "markdown",
   "metadata": {},
   "source": [
    "## **Model Inference**"
   ]
  },
  {
   "cell_type": "markdown",
   "metadata": {},
   "source": [
    "#### **1. Import Libraries**"
   ]
  },
  {
   "cell_type": "code",
   "execution_count": 37,
   "metadata": {},
   "outputs": [],
   "source": [
    "# Import Library\n",
    "import pandas as pd\n",
    "import numpy as np\n",
    "import pickle\n",
    "import json"
   ]
  },
  {
   "cell_type": "markdown",
   "metadata": {},
   "source": [
    "#### **2. Load Model**"
   ]
  },
  {
   "cell_type": "code",
   "execution_count": 38,
   "metadata": {},
   "outputs": [],
   "source": [
    "# Load model and related files\n",
    "with open('kmeans_model.pkl', 'rb') as model_file:\n",
    "    km = pickle.load(model_file)\n",
    "\n",
    "with open('scaler.pkl', 'rb') as minmax_file:\n",
    "    scaler = pickle.load(minmax_file)\n",
    "\n",
    "with open('pca.pkl', 'rb') as pca_file:\n",
    "    pca = pickle.load(pca_file)\n",
    "\n",
    "with open('num_cols.json', 'r') as num_std_file:\n",
    "    num = json.load(num_std_file)\n",
    "\n",
    "with open('cat_cols_encoded.json', 'r') as cat_std_file:\n",
    "    cat = json.load(cat_std_file)"
   ]
  },
  {
   "cell_type": "markdown",
   "metadata": {},
   "source": [
    "#### **3. Input Inference Data**"
   ]
  },
  {
   "cell_type": "code",
   "execution_count": 39,
   "metadata": {},
   "outputs": [
    {
     "data": {
      "text/html": [
       "<div>\n",
       "<style scoped>\n",
       "    .dataframe tbody tr th:only-of-type {\n",
       "        vertical-align: middle;\n",
       "    }\n",
       "\n",
       "    .dataframe tbody tr th {\n",
       "        vertical-align: top;\n",
       "    }\n",
       "\n",
       "    .dataframe thead th {\n",
       "        text-align: right;\n",
       "    }\n",
       "</style>\n",
       "<table border=\"1\" class=\"dataframe\">\n",
       "  <thead>\n",
       "    <tr style=\"text-align: right;\">\n",
       "      <th></th>\n",
       "      <th>CUST_ID</th>\n",
       "      <th>BALANCE</th>\n",
       "      <th>BALANCE_FREQUENCY</th>\n",
       "      <th>PURCHASES</th>\n",
       "      <th>ONEOFF_PURCHASES</th>\n",
       "      <th>INSTALLMENTS_PURCHASES</th>\n",
       "      <th>CASH_ADVANCE</th>\n",
       "      <th>PURCHASES_FREQUENCY</th>\n",
       "      <th>ONEOFF_PURCHASES_FREQUENCY</th>\n",
       "      <th>PURCHASES_INSTALLMENTS_FREQUENCY</th>\n",
       "      <th>CASH_ADVANCE_FREQUENCY</th>\n",
       "      <th>CASH_ADVANCE_TRX</th>\n",
       "      <th>PURCHASES_TRX</th>\n",
       "      <th>CREDIT_LIMIT</th>\n",
       "      <th>PAYMENTS</th>\n",
       "      <th>MINIMUM_PAYMENTS</th>\n",
       "      <th>PRC_FULL_PAYMENT</th>\n",
       "      <th>TENURE</th>\n",
       "    </tr>\n",
       "  </thead>\n",
       "  <tbody>\n",
       "    <tr>\n",
       "      <th>0</th>\n",
       "      <td>1234</td>\n",
       "      <td>6300</td>\n",
       "      <td>0.89</td>\n",
       "      <td>1200</td>\n",
       "      <td>800</td>\n",
       "      <td>400</td>\n",
       "      <td>300</td>\n",
       "      <td>0.6</td>\n",
       "      <td>0.4</td>\n",
       "      <td>0.2</td>\n",
       "      <td>0.1</td>\n",
       "      <td>1</td>\n",
       "      <td>12</td>\n",
       "      <td>3000</td>\n",
       "      <td>2800</td>\n",
       "      <td>1000</td>\n",
       "      <td>0.3</td>\n",
       "      <td>8</td>\n",
       "    </tr>\n",
       "  </tbody>\n",
       "</table>\n",
       "</div>"
      ],
      "text/plain": [
       "   CUST_ID  BALANCE  BALANCE_FREQUENCY  PURCHASES  ONEOFF_PURCHASES  \\\n",
       "0     1234     6300               0.89       1200               800   \n",
       "\n",
       "   INSTALLMENTS_PURCHASES  CASH_ADVANCE  PURCHASES_FREQUENCY  \\\n",
       "0                     400           300                  0.6   \n",
       "\n",
       "   ONEOFF_PURCHASES_FREQUENCY  PURCHASES_INSTALLMENTS_FREQUENCY  \\\n",
       "0                         0.4                               0.2   \n",
       "\n",
       "   CASH_ADVANCE_FREQUENCY  CASH_ADVANCE_TRX  PURCHASES_TRX  CREDIT_LIMIT  \\\n",
       "0                     0.1                 1             12          3000   \n",
       "\n",
       "   PAYMENTS  MINIMUM_PAYMENTS  PRC_FULL_PAYMENT  TENURE  \n",
       "0      2800              1000               0.3       8  "
      ]
     },
     "execution_count": 39,
     "metadata": {},
     "output_type": "execute_result"
    }
   ],
   "source": [
    "# Create a dictionary with the data\n",
    "data = {'CUST_ID': [1234],\n",
    "        'BALANCE': [6300],\n",
    "        'BALANCE_FREQUENCY': [0.89],\n",
    "        'PURCHASES': [1200],\n",
    "        'ONEOFF_PURCHASES': [800],\n",
    "        'INSTALLMENTS_PURCHASES': [400],\n",
    "        'CASH_ADVANCE': [300],\n",
    "        'PURCHASES_FREQUENCY': [0.6],\n",
    "        'ONEOFF_PURCHASES_FREQUENCY': [0.4],\n",
    "        'PURCHASES_INSTALLMENTS_FREQUENCY': [0.2],\n",
    "        'CASH_ADVANCE_FREQUENCY': [0.1],\n",
    "        'CASH_ADVANCE_TRX': [1],\n",
    "        'PURCHASES_TRX': [12],\n",
    "        'CREDIT_LIMIT': [3000],\n",
    "        'PAYMENTS': [2800],\n",
    "        'MINIMUM_PAYMENTS': [1000],\n",
    "        'PRC_FULL_PAYMENT': [0.3],\n",
    "        'TENURE': [8]}\n",
    "\n",
    "# Create the DataFrame\n",
    "df_inf = pd.DataFrame(data)\n",
    "\n",
    "# Print the DataFrame\n",
    "df_inf\n"
   ]
  },
  {
   "cell_type": "markdown",
   "metadata": {},
   "source": [
    "#### **4. Preprocess the Input Data**"
   ]
  },
  {
   "cell_type": "markdown",
   "metadata": {},
   "source": [
    "##### **a. Data Splitting**"
   ]
  },
  {
   "cell_type": "code",
   "execution_count": 40,
   "metadata": {},
   "outputs": [
    {
     "data": {
      "text/html": [
       "<div>\n",
       "<style scoped>\n",
       "    .dataframe tbody tr th:only-of-type {\n",
       "        vertical-align: middle;\n",
       "    }\n",
       "\n",
       "    .dataframe tbody tr th {\n",
       "        vertical-align: top;\n",
       "    }\n",
       "\n",
       "    .dataframe thead th {\n",
       "        text-align: right;\n",
       "    }\n",
       "</style>\n",
       "<table border=\"1\" class=\"dataframe\">\n",
       "  <thead>\n",
       "    <tr style=\"text-align: right;\">\n",
       "      <th></th>\n",
       "      <th>BALANCE</th>\n",
       "      <th>PURCHASES</th>\n",
       "      <th>ONEOFF_PURCHASES</th>\n",
       "      <th>INSTALLMENTS_PURCHASES</th>\n",
       "      <th>CASH_ADVANCE</th>\n",
       "      <th>CASH_ADVANCE_TRX</th>\n",
       "      <th>PURCHASES_TRX</th>\n",
       "      <th>CREDIT_LIMIT</th>\n",
       "      <th>PAYMENTS</th>\n",
       "      <th>MINIMUM_PAYMENTS</th>\n",
       "      <th>PRC_FULL_PAYMENT</th>\n",
       "      <th>TENURE</th>\n",
       "    </tr>\n",
       "  </thead>\n",
       "  <tbody>\n",
       "    <tr>\n",
       "      <th>0</th>\n",
       "      <td>6300</td>\n",
       "      <td>1200</td>\n",
       "      <td>800</td>\n",
       "      <td>400</td>\n",
       "      <td>300</td>\n",
       "      <td>1</td>\n",
       "      <td>12</td>\n",
       "      <td>3000</td>\n",
       "      <td>2800</td>\n",
       "      <td>1000</td>\n",
       "      <td>0.3</td>\n",
       "      <td>8</td>\n",
       "    </tr>\n",
       "  </tbody>\n",
       "</table>\n",
       "</div>"
      ],
      "text/plain": [
       "   BALANCE  PURCHASES  ONEOFF_PURCHASES  INSTALLMENTS_PURCHASES  CASH_ADVANCE  \\\n",
       "0     6300       1200               800                     400           300   \n",
       "\n",
       "   CASH_ADVANCE_TRX  PURCHASES_TRX  CREDIT_LIMIT  PAYMENTS  MINIMUM_PAYMENTS  \\\n",
       "0                 1             12          3000      2800              1000   \n",
       "\n",
       "   PRC_FULL_PAYMENT  TENURE  \n",
       "0               0.3       8  "
      ]
     },
     "execution_count": 40,
     "metadata": {},
     "output_type": "execute_result"
    }
   ],
   "source": [
    "# Split between numerical and categorical column\n",
    "df_inf_num = df_inf[num]\n",
    "df_inf_num"
   ]
  },
  {
   "cell_type": "markdown",
   "metadata": {},
   "source": [
    "##### **b. Scaling**"
   ]
  },
  {
   "cell_type": "code",
   "execution_count": 41,
   "metadata": {},
   "outputs": [
    {
     "data": {
      "text/plain": [
       "array([[0.80393365, 0.27457661, 0.34463744, 0.20650277, 0.06827057,\n",
       "        0.0625    , 0.18461538, 0.14728682, 0.43659836, 0.37699905,\n",
       "        0.4499991 , 0.33333333]])"
      ]
     },
     "execution_count": 41,
     "metadata": {},
     "output_type": "execute_result"
    }
   ],
   "source": [
    "# Feature scaling\n",
    "df_inf_scaled = scaler.transform(df_inf_num)\n",
    "df_inf_scaled"
   ]
  },
  {
   "cell_type": "markdown",
   "metadata": {},
   "source": [
    "##### **c. PCA**"
   ]
  },
  {
   "cell_type": "code",
   "execution_count": 42,
   "metadata": {},
   "outputs": [
    {
     "data": {
      "text/plain": [
       "array([[0.23259825, 0.18478749, 0.12351823, 0.05341199, 0.13475721,\n",
       "        0.71802667, 0.12697316]])"
      ]
     },
     "execution_count": 42,
     "metadata": {},
     "output_type": "execute_result"
    }
   ],
   "source": [
    "# Dimensionality reduction using PCA\n",
    "data_inf_scaled_pca = pca.transform(df_inf_scaled)\n",
    "data_inf_scaled_pca\n",
    "\n",
    "\n"
   ]
  },
  {
   "cell_type": "markdown",
   "metadata": {},
   "source": [
    "#### **5. Cluster Prediction**"
   ]
  },
  {
   "cell_type": "code",
   "execution_count": 43,
   "metadata": {},
   "outputs": [
    {
     "name": "stdout",
     "output_type": "stream",
     "text": [
      "Cluster: Minimalist Users\n"
     ]
    }
   ],
   "source": [
    "# Predict cluster\n",
    "cluster_df_inf = km.predict(data_inf_scaled_pca)\n",
    "\n",
    "if cluster_df_inf == 0:\n",
    "    cluster_df_inf = 'Credit-Reliant Users'\n",
    "elif cluster_df_inf == 1:\n",
    "    cluster_df_inf = 'Minimalist Users'\n",
    "elif cluster_df_inf == 2:\n",
    "    cluster_df_inf = 'High Rollers Users'\n",
    "elif cluster_df_inf == 3:\n",
    "    cluster_df_inf = 'Financially Disciplined Users'\n",
    "    \n",
    "# Show result\n",
    "print('Cluster:', cluster_df_inf)\n"
   ]
  },
  {
   "cell_type": "code",
   "execution_count": 44,
   "metadata": {},
   "outputs": [
    {
     "name": "stdout",
     "output_type": "stream",
     "text": [
      "Predicted cluster: 1\n"
     ]
    }
   ],
   "source": [
    "# Predict Cluster\n",
    "predict = km.predict(data_inf_scaled_pca)\n",
    "\n",
    "# Show result\n",
    "print(f\"Predicted cluster: {predict[0]}\")"
   ]
  },
  {
   "cell_type": "markdown",
   "metadata": {},
   "source": [
    "#### **6. Kesimpulan**"
   ]
  },
  {
   "cell_type": "markdown",
   "metadata": {},
   "source": [
    "Berdasarkan hasil prediksi model KMeans, pelanggan ini termasuk dalam Cluster 1 yaitu Minimalist Users. Ini dapat diinterpretasikan bahwa pelanggan ini menunjukkan karakteristik pengguna kartu kredit yang minimalis. Pengguna dalam cluster ini cenderung menggunakan kartu kredit mereka dengan cara yang sangat hati-hati dan terbatas.\n",
    "\n",
    "Hal ini menunjukkan keberhasilan prediksi cluster customer's berdasarkan model."
   ]
  }
 ],
 "metadata": {
  "kernelspec": {
   "display_name": "iznia",
   "language": "python",
   "name": "python3"
  },
  "language_info": {
   "codemirror_mode": {
    "name": "ipython",
    "version": 3
   },
   "file_extension": ".py",
   "mimetype": "text/x-python",
   "name": "python",
   "nbconvert_exporter": "python",
   "pygments_lexer": "ipython3",
   "version": "3.12.3"
  }
 },
 "nbformat": 4,
 "nbformat_minor": 2
}
